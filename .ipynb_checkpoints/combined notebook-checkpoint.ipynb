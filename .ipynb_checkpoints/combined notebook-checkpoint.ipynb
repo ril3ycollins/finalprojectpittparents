{
 "cells": [
  {
   "cell_type": "code",
   "execution_count": null,
   "id": "3b2072f1-8a9b-49ae-b965-2897bf78cddb",
   "metadata": {},
   "outputs": [],
   "source": [
    "# this is the combined notebook for final analysis "
   ]
  }
 ],
 "metadata": {
  "kernelspec": {
   "display_name": "Python 3 (ipykernel)",
   "language": "python",
   "name": "python3"
  },
  "language_info": {
   "codemirror_mode": {
    "name": "ipython",
    "version": 3
   },
   "file_extension": ".py",
   "mimetype": "text/x-python",
   "name": "python",
   "nbconvert_exporter": "python",
   "pygments_lexer": "ipython3",
   "version": "3.12.4"
  }
 },
 "nbformat": 4,
 "nbformat_minor": 5
}
